{
 "cells": [
  {
   "cell_type": "markdown",
   "metadata": {
    "collapsed": true
   },
   "source": [
    "# 项目：搭建一个简单的问答系统"
   ]
  },
  {
   "cell_type": "markdown",
   "metadata": {},
   "source": [
    "### 第一部分： 在这部分里，你首先需要去读取给定的文件，并把文件里的内容读取到list里面。这部分的任务主要需要文件IO操作方面的基本知识。"
   ]
  },
  {
   "cell_type": "code",
   "execution_count": 1,
   "metadata": {},
   "outputs": [],
   "source": [
    "import numpy as np\n",
    "def read_corpus(file):\n",
    "    with open(file) as f:\n",
    "        list = []\n",
    "        lines = f.readlines()\n",
    "        for i in lines:\n",
    "            list.append(i)\n",
    "    return list"
   ]
  },
  {
   "cell_type": "code",
   "execution_count": 2,
   "metadata": {},
   "outputs": [],
   "source": [
    "questions = read_corpus('./Question_combined.dat')\n",
    "answers = read_corpus('./Answer_combined.dat')\n",
    "assert len(questions)==len(answers), \"问题和答案列表的大小不一样，请检查读入数据是否有误!\""
   ]
  },
  {
   "cell_type": "markdown",
   "metadata": {},
   "source": [
    "### 第二部分： 处理已有的字符串数据，并把它们转换成词袋向量。这部分内容涉及到一些简单的字符串预处理技术（比如过滤掉一些没用的字符、分词等），还有就是基于sklearn的把字符串转换向量的过程。本部分的内容需要字符串操作、分词、词袋模型相关的基础知识。"
   ]
  },
  {
   "cell_type": "code",
   "execution_count": 3,
   "metadata": {},
   "outputs": [
    {
     "name": "stderr",
     "output_type": "stream",
     "text": [
      "Building prefix dict from the default dictionary ...\n",
      "Dumping model to file cache /var/folders/gj/r2j663yj5czd2z24s5ly813m0000gn/T/jieba.cache\n",
      "Loading model cost 1.855 seconds.\n",
      "Prefix dict has been built succesfully.\n"
     ]
    }
   ],
   "source": [
    "import re\n",
    "import jieba\n",
    "from sklearn.feature_extraction.text import CountVectorizer\n",
    "def filter_out_category(input):\n",
    "    new_input = re.sub('[\\u4e00-\\u9fa5]{2,5}\\\\/','',input)\n",
    "    return new_input\n",
    "\n",
    "def filter_out_punctuation(input):\n",
    "    new_input = re.sub('([a-zA-Z0-9])','',input)\n",
    "    new_input = ''.join(e for e in new_input if e.isalnum())\n",
    "    return new_input\n",
    "\n",
    "def word_segmentation(input):\n",
    "    new_input = ','.join(jieba.cut(input))\n",
    "    return new_input\n",
    "\n",
    "def conver2BOW(data):\n",
    "    new_data = [] \n",
    "    for q in data:\n",
    "        q = filter_out_category(q)  \n",
    "        q = filter_out_punctuation(q)\n",
    "        q = word_segmentation(q)\n",
    "        new_data.append(q)\n",
    "    vectorizer = CountVectorizer() \n",
    "    X = vectorizer.fit_transform(new_data)\n",
    "    return vectorizer, X\n",
    "vectorizer, X = conver2BOW(questions)"
   ]
  },
  {
   "cell_type": "markdown",
   "metadata": {},
   "source": [
    "### 第三部分： 对于用户的新输入，返回答案。 这是最后一部分，也就是等我们创建完词袋向量之后，我们就可以输入一些新的问题，然后从库中找出最合适的答案。这部分的任务涉及到余弦相似度、简单搜索排序等方面基础知识。"
   ]
  },
  {
   "cell_type": "code",
   "execution_count": 4,
   "metadata": {},
   "outputs": [],
   "source": [
    "def idx_for_largest_cosine_sim(input, questions):\n",
    "    list = []\n",
    "    input = (input.toarray())[0]\n",
    "    for question in questions:\n",
    "        question = question.toarray()\n",
    "        num = float(np.matmul(question, input))\n",
    "        denom = np.linalg.norm(question) * np.linalg.norm(input)\n",
    "        cos = num / denom\n",
    "        list.append(cos)\n",
    "\n",
    "    best_idx = list.index(max(list))\n",
    "    return best_idx\n",
    "\n",
    "def answer(input):\n",
    "    input = filter_out_punctuation(input)\n",
    "    input = word_segmentation(input)\n",
    "    bow = vectorizer.transform([input])\n",
    "    best_idx = idx_for_largest_cosine_sim(bow, X)\n",
    "    return answers[best_idx]"
   ]
  },
  {
   "cell_type": "code",
   "execution_count": 35,
   "metadata": {},
   "outputs": [
    {
     "ename": "ValueError",
     "evalue": "Iterable over raw text documents expected, string object received.",
     "output_type": "error",
     "traceback": [
      "\u001b[0;31m---------------------------------------------------------------------------\u001b[0m",
      "\u001b[0;31mValueError\u001b[0m                                Traceback (most recent call last)",
      "\u001b[0;32m<ipython-input-35-525e56c38349>\u001b[0m in \u001b[0;36m<module>\u001b[0;34m()\u001b[0m\n\u001b[1;32m      1\u001b[0m \u001b[0;31m# 可以做一些简单的测试，来看看效果，你也可以尝试打印最相近的问题\u001b[0m\u001b[0;34m\u001b[0m\u001b[0;34m\u001b[0m\u001b[0m\n\u001b[0;32m----> 2\u001b[0;31m \u001b[0mprint\u001b[0m\u001b[0;34m(\u001b[0m\u001b[0manswer\u001b[0m\u001b[0;34m(\u001b[0m\u001b[0;34m\"SVM是属于参数模型还是非参数魔心？\"\u001b[0m\u001b[0;34m)\u001b[0m\u001b[0;34m)\u001b[0m\u001b[0;34m\u001b[0m\u001b[0m\n\u001b[0m\u001b[1;32m      3\u001b[0m \u001b[0mprint\u001b[0m\u001b[0;34m(\u001b[0m\u001b[0manswer\u001b[0m\u001b[0;34m(\u001b[0m\u001b[0;34m\"谁知道网上找兼职工作的网站\"\u001b[0m\u001b[0;34m)\u001b[0m\u001b[0;34m)\u001b[0m\u001b[0;34m\u001b[0m\u001b[0m\n",
      "\u001b[0;32m<ipython-input-34-fb31f114ff0a>\u001b[0m in \u001b[0;36manswer\u001b[0;34m(input)\u001b[0m\n\u001b[1;32m     17\u001b[0m \u001b[0;34m\u001b[0m\u001b[0m\n\u001b[1;32m     18\u001b[0m     \u001b[0;31m# TODO: 把输入的字符串转换成词袋向量, 可以使用 vectorizer.transform 函数。 这里的vectorizer是在已有的数据上已经训练过的\u001b[0m\u001b[0;34m\u001b[0m\u001b[0;34m\u001b[0m\u001b[0m\n\u001b[0;32m---> 19\u001b[0;31m     \u001b[0mbow\u001b[0m \u001b[0;34m=\u001b[0m \u001b[0mvectorizer\u001b[0m\u001b[0;34m.\u001b[0m\u001b[0mtransform\u001b[0m\u001b[0;34m(\u001b[0m\u001b[0minput\u001b[0m\u001b[0;34m)\u001b[0m\u001b[0;34m\u001b[0m\u001b[0m\n\u001b[0m\u001b[1;32m     20\u001b[0m \u001b[0;34m\u001b[0m\u001b[0m\n\u001b[1;32m     21\u001b[0m     \u001b[0;31m# TODO: 有了对当前输入语句的词袋向量之后，我们需要跟库里的每一个问题做相似度计算，并返回相似度最高的问题的答案\u001b[0m\u001b[0;34m\u001b[0m\u001b[0;34m\u001b[0m\u001b[0m\n",
      "\u001b[0;32m/Library/Frameworks/Python.framework/Versions/3.7/lib/python3.7/site-packages/sklearn/feature_extraction/text.py\u001b[0m in \u001b[0;36mtransform\u001b[0;34m(self, raw_documents)\u001b[0m\n\u001b[1;32m    912\u001b[0m         \u001b[0;32mif\u001b[0m \u001b[0misinstance\u001b[0m\u001b[0;34m(\u001b[0m\u001b[0mraw_documents\u001b[0m\u001b[0;34m,\u001b[0m \u001b[0msix\u001b[0m\u001b[0;34m.\u001b[0m\u001b[0mstring_types\u001b[0m\u001b[0;34m)\u001b[0m\u001b[0;34m:\u001b[0m\u001b[0;34m\u001b[0m\u001b[0m\n\u001b[1;32m    913\u001b[0m             raise ValueError(\n\u001b[0;32m--> 914\u001b[0;31m                 \u001b[0;34m\"Iterable over raw text documents expected, \"\u001b[0m\u001b[0;34m\u001b[0m\u001b[0m\n\u001b[0m\u001b[1;32m    915\u001b[0m                 \"string object received.\")\n\u001b[1;32m    916\u001b[0m \u001b[0;34m\u001b[0m\u001b[0m\n",
      "\u001b[0;31mValueError\u001b[0m: Iterable over raw text documents expected, string object received."
     ]
    }
   ],
   "source": [
    "print(answer(\"SVM是属于参数模型还是非参数魔心？\"))\n",
    "print(answer(\"谁知道网上找兼职工作的网站\"))"
   ]
  }
 ],
 "metadata": {
  "kernelspec": {
   "display_name": "Python 3",
   "language": "python",
   "name": "python3"
  },
  "language_info": {
   "codemirror_mode": {
    "name": "ipython",
    "version": 3
   },
   "file_extension": ".py",
   "mimetype": "text/x-python",
   "name": "python",
   "nbconvert_exporter": "python",
   "pygments_lexer": "ipython3",
   "version": "3.7.0"
  }
 },
 "nbformat": 4,
 "nbformat_minor": 2
}
