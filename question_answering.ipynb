{
 "cells": [
  {
   "cell_type": "markdown",
   "metadata": {
    "collapsed": true
   },
   "source": [
    "# 项目：搭建一个简单的问答系统"
   ]
  },
  {
   "cell_type": "markdown",
   "metadata": {},
   "source": [
    "### 第一部分： 在这部分里，你首先需要去读取给定的文件，并把文件里的内容读取到list里面。这部分的任务主要需要文件IO操作方面的基本知识。"
   ]
  },
  {
   "cell_type": "code",
   "execution_count": 1,
   "metadata": {},
   "outputs": [],
   "source": [
    "def read_corpus(file):\n",
    "    with open(file) as f:\n",
    "        list = []\n",
    "        lines = f.readlines()\n",
    "        for i in lines:\n",
    "            list.append(i)\n",
    "    return list"
   ]
  },
  {
   "cell_type": "code",
   "execution_count": 2,
   "metadata": {},
   "outputs": [],
   "source": [
    "questions = read_corpus('./Question_combined.dat')\n",
    "answers = read_corpus('./Answer_combined.dat')\n",
    "assert len(questions)==len(answers), \"问题和答案列表的大小不一样，请检查读入数据是否有误!\""
   ]
  },
  {
   "cell_type": "markdown",
   "metadata": {},
   "source": [
    "### 第二部分： 处理已有的字符串数据，并把它们转换成词袋向量。这部分内容涉及到一些简单的字符串预处理技术（比如过滤掉一些没用的字符、分词等），还有就是基于sklearn的把字符串转换向量的过程。本部分的内容需要字符串操作、分词、词袋模型相关的基础知识。"
   ]
  },
  {
   "cell_type": "code",
   "execution_count": 3,
   "metadata": {},
   "outputs": [
    {
     "name": "stderr",
     "output_type": "stream",
     "text": [
      "Building prefix dict from the default dictionary ...\n",
      "Dumping model to file cache /var/folders/18/6srg07412v12cx1h90mpgggm0000gq/T/jieba.cache\n",
      "Loading model cost 1.664 seconds.\n",
      "Prefix dict has been built succesfully.\n"
     ]
    }
   ],
   "source": [
    "import re\n",
    "import jieba\n",
    "from sklearn.feature_extraction.text import CountVectorizer\n",
    "def filter_out_category(input):\n",
    "    new_input = re.sub('[\\u4e00-\\u9fa5]{2,5}\\\\/','',input)\n",
    "    return new_input\n",
    "\n",
    "def filter_out_punctuation(input):\n",
    "    new_input = re.sub('([a-zA-Z0-9])','',input)\n",
    "    new_input = ''.join(e for e in new_input if e.isalnum())\n",
    "    return new_input\n",
    "\n",
    "def word_segmentation(input):\n",
    "    new_input = ','.join(jieba.cut(input))\n",
    "    return new_input\n",
    "\n",
    "def conver2BOW(data):\n",
    "    new_data = [] \n",
    "    for q in data:\n",
    "        q = filter_out_category(q)  \n",
    "        q = filter_out_punctuation(q)\n",
    "        q = word_segmentation(q)\n",
    "        new_data.append(q)\n",
    "    vectorizer = CountVectorizer() \n",
    "    X = vectorizer.fit_transform(new_data)\n",
    "    return vectorizer, X\n",
    "vectorizer, X = conver2BOW(questions)"
   ]
  },
  {
   "cell_type": "markdown",
   "metadata": {},
   "source": [
    "### 第三部分： 对于用户的新输入，返回答案。 这是最后一部分，也就是等我们创建完词袋向量之后，我们就可以输入一些新的问题，然后从库中找出最合适的答案。这部分的任务涉及到余弦相似度、简单搜索排序等方面基础知识。"
   ]
  },
  {
   "cell_type": "code",
   "execution_count": 4,
   "metadata": {},
   "outputs": [],
   "source": [
    "import numpy as np\n",
    "def idx_for_largest_cosine_sim(input, questions):\n",
    "    list = []\n",
    "    input = (input.toarray())[0]\n",
    "    for question in questions:\n",
    "        question = question.toarray()\n",
    "        num = float(np.matmul(question, input))\n",
    "        denom = np.linalg.norm(question) * np.linalg.norm(input)\n",
    "        cos = num / denom\n",
    "        list.append(cos)\n",
    "\n",
    "    best_idx = list.index(max(list))\n",
    "    return best_idx\n",
    "\n",
    "def answer(input):\n",
    "    input = filter_out_punctuation(input)\n",
    "    input = word_segmentation(input)\n",
    "    bow = vectorizer.transform([input])\n",
    "    best_idx = idx_for_largest_cosine_sim(bow, X)\n",
    "    return answers[best_idx]"
   ]
  },
  {
   "cell_type": "code",
   "execution_count": null,
   "metadata": {},
   "outputs": [],
   "source": [
    "print(answer(\"谁知道网上找兼职工作的网站\"))"
   ]
  },
  {
   "cell_type": "code",
   "execution_count": null,
   "metadata": {},
   "outputs": [],
   "source": []
  }
 ],
 "metadata": {
  "kernelspec": {
   "display_name": "Python 3",
   "language": "python",
   "name": "python3"
  },
  "language_info": {
   "codemirror_mode": {
    "name": "ipython",
    "version": 3
   },
   "file_extension": ".py",
   "mimetype": "text/x-python",
   "name": "python",
   "nbconvert_exporter": "python",
   "pygments_lexer": "ipython3",
   "version": "3.7.0"
  }
 },
 "nbformat": 4,
 "nbformat_minor": 2
}
